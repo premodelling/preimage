{
 "cells": [
  {
   "cell_type": "markdown",
   "id": "9f4030ed-f710-4b45-81ce-df8b09128eb1",
   "metadata": {},
   "source": [
    "# Preliminaries"
   ]
  },
  {
   "cell_type": "markdown",
   "id": "d848e642-c179-446e-b8cb-b258d8b96d2a",
   "metadata": {},
   "source": [
    "## Paths"
   ]
  },
  {
   "cell_type": "code",
   "execution_count": 1,
   "id": "2d91cdb5-0308-4c82-bd15-f90d515e8c1e",
   "metadata": {},
   "outputs": [],
   "source": [
    "import os\n",
    "import pathlib\n",
    "import sys"
   ]
  },
  {
   "cell_type": "code",
   "execution_count": 2,
   "id": "ad0256c2-b858-4645-8015-22ddb8e6354a",
   "metadata": {},
   "outputs": [],
   "source": [
    "if not 'google.colab' in str(get_ipython()):\n",
    "    \n",
    "    notebooks = os.getcwd()\n",
    "    parent = str(pathlib.Path(notebooks).parent)\n",
    "    sys.path.append(parent)"
   ]
  },
  {
   "cell_type": "markdown",
   "id": "808a71ba-313c-4304-a395-674abf8973a6",
   "metadata": {},
   "source": [
    "<br>\n",
    "\n",
    "Warehouse"
   ]
  },
  {
   "cell_type": "code",
   "execution_count": 3,
   "id": "99feb3e6-5a81-436b-980a-167a0e18a732",
   "metadata": {},
   "outputs": [],
   "source": [
    "warehouse = os.path.join(parent, 'warehouse')\n",
    "\n",
    "if not os.path.exists(warehouse):\n",
    "    os.makedirs(warehouse)"
   ]
  },
  {
   "cell_type": "markdown",
   "id": "6adc926f-1581-4c93-a60d-95b54ef2c90c",
   "metadata": {},
   "source": [
    "<br>\n",
    "<br>\n",
    "\n",
    "## Libraries"
   ]
  },
  {
   "cell_type": "code",
   "execution_count": 4,
   "id": "429dcd10-fc52-48af-a5b5-1aa09b311bee",
   "metadata": {},
   "outputs": [],
   "source": [
    "%matplotlib inline\n",
    "\n",
    "import logging\n",
    "import collections\n",
    "\n",
    "import numpy as np\n",
    "import pandas as pd\n",
    "import scipy as sp\n",
    "\n",
    "import matplotlib\n",
    "import matplotlib.pyplot as plt\n",
    "import seaborn as sns\n",
    "\n"
   ]
  },
  {
   "cell_type": "markdown",
   "id": "4a024602-03ee-4707-9336-3dc869f0939e",
   "metadata": {},
   "source": [
    "<br>\n",
    "<br>\n",
    "\n",
    "# Analysis"
   ]
  },
  {
   "cell_type": "markdown",
   "id": "f9dc72c6-4eda-4427-ba4c-27236e5c1327",
   "metadata": {},
   "source": [
    "## Functions"
   ]
  },
  {
   "cell_type": "markdown",
   "id": "cf34815d-17cd-4b09-b4a6-708a5ce2c16a",
   "metadata": {},
   "source": [
    "Function *f*"
   ]
  },
  {
   "cell_type": "code",
   "execution_count": 5,
   "id": "3915bcff-acc5-42cc-9409-a67788dcbf52",
   "metadata": {},
   "outputs": [],
   "source": [
    "def f(d: np.ndarray, alpha: float, beta: float) -> float:\n",
    "    \n",
    "    est = 1 + alpha * np.exp( -np.power(d/beta, 2) )\n",
    "    \n",
    "    return est\n"
   ]
  },
  {
   "cell_type": "markdown",
   "id": "ecd8d312-582e-43fd-a71d-a46380c70f0d",
   "metadata": {},
   "source": [
    "Function *p*"
   ]
  },
  {
   "cell_type": "code",
   "execution_count": 6,
   "id": "36d83d90-b6c6-42c6-ba70-6511f507df54",
   "metadata": {},
   "outputs": [],
   "source": [
    "def p(d: np.ndarray, alpha: float, beta: float, rho: float):\n",
    "    \n",
    "    kernel = f(d = d, alpha = alpha, beta = beta)\n",
    "    \n",
    "    plausibility = (rho*kernel)/(1 + rho*kernel)\n",
    "    \n",
    "    return plausibility"
   ]
  },
  {
   "cell_type": "markdown",
   "id": "2ee6219c-b4b8-42ec-87cd-5e2cc498f533",
   "metadata": {},
   "source": [
    "<br>\n",
    "<br>\n",
    "\n",
    "## Tests"
   ]
  },
  {
   "cell_type": "markdown",
   "id": "02421f7c-ac0d-4fcc-bf73-becb7cadbf9c",
   "metadata": {},
   "source": [
    "**Case *f***"
   ]
  },
  {
   "cell_type": "code",
   "execution_count": 7,
   "id": "d773b036-2594-4f09-a333-608ea2c54dea",
   "metadata": {},
   "outputs": [
    {
     "data": {
      "text/plain": [
       "2.0"
      ]
     },
     "execution_count": 7,
     "metadata": {},
     "output_type": "execute_result"
    }
   ],
   "source": [
    "f(d = np.array(0), alpha = 1, beta = 1)"
   ]
  },
  {
   "cell_type": "code",
   "execution_count": 8,
   "id": "8bb894fd-9df1-48d7-a748-813e2964b895",
   "metadata": {},
   "outputs": [
    {
     "data": {
      "text/plain": [
       "1.3678794411714423"
      ]
     },
     "execution_count": 8,
     "metadata": {},
     "output_type": "execute_result"
    }
   ],
   "source": [
    "f(d = np.array(1), alpha = 1, beta = 1)"
   ]
  },
  {
   "cell_type": "code",
   "execution_count": 9,
   "id": "6cdeabee-694d-4c08-910f-476d8961874b",
   "metadata": {},
   "outputs": [
    {
     "data": {
      "text/plain": [
       "1.0"
      ]
     },
     "execution_count": 9,
     "metadata": {},
     "output_type": "execute_result"
    }
   ],
   "source": [
    "f(d = np.array(1000), alpha = 1, beta = 1)"
   ]
  },
  {
   "cell_type": "markdown",
   "id": "de74dd02-179c-4718-8714-d15bda2f91f1",
   "metadata": {},
   "source": [
    "<br>\n",
    "\n",
    "**Case *p***"
   ]
  },
  {
   "cell_type": "code",
   "execution_count": 10,
   "id": "28b7e1d4-180f-42f6-8467-37ccb7459e7a",
   "metadata": {},
   "outputs": [
    {
     "data": {
      "text/plain": [
       "0.75"
      ]
     },
     "execution_count": 10,
     "metadata": {},
     "output_type": "execute_result"
    }
   ],
   "source": [
    "p(d = np.array(0), alpha = 0.5, beta = 1, rho = 2)"
   ]
  },
  {
   "cell_type": "code",
   "execution_count": 11,
   "id": "d1e9103a-5453-4879-84f7-edbb7b55d4ae",
   "metadata": {},
   "outputs": [
    {
     "data": {
      "text/plain": [
       "0.7030772575243454"
      ]
     },
     "execution_count": 11,
     "metadata": {},
     "output_type": "execute_result"
    }
   ],
   "source": [
    "p(d = np.array(1), alpha = 0.5, beta = 1, rho = 2)"
   ]
  },
  {
   "cell_type": "code",
   "execution_count": 12,
   "id": "9caf330f-6770-4a2f-b6ae-a4241555eb37",
   "metadata": {},
   "outputs": [
    {
     "data": {
      "text/plain": [
       "0.6666666666666666"
      ]
     },
     "execution_count": 12,
     "metadata": {},
     "output_type": "execute_result"
    }
   ],
   "source": [
    "p(d = np.array(1000), alpha = 0.5, beta = 1, rho = 2)"
   ]
  }
 ],
 "metadata": {
  "kernelspec": {
   "display_name": "Python 3 (ipykernel)",
   "language": "python",
   "name": "python3"
  },
  "language_info": {
   "codemirror_mode": {
    "name": "ipython",
    "version": 3
   },
   "file_extension": ".py",
   "mimetype": "text/x-python",
   "name": "python",
   "nbconvert_exporter": "python",
   "pygments_lexer": "ipython3",
   "version": "3.7.11"
  }
 },
 "nbformat": 4,
 "nbformat_minor": 5
}
